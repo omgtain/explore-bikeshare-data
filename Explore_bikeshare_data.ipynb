{
 "cells": [
  {
   "cell_type": "markdown",
   "metadata": {},
   "source": [
    "# Exploring Bike Share Data\n",
    "\n",
    "The goal of this project is to search for usage patterns in New York, Washington DC, and Chicago. We will be exploring the generations that are most likely to use Bike Share, the most common stops for Subscribing & Non-Subscribing Customers, and if there is a correlation between age and trip duration of the customers. "
   ]
  },
  {
   "cell_type": "code",
   "execution_count": 1,
   "metadata": {},
   "outputs": [
    {
     "name": "stderr",
     "output_type": "stream",
     "text": [
      "\n",
      "Attaching package: ‘dplyr’\n",
      "\n",
      "The following objects are masked from ‘package:stats’:\n",
      "\n",
      "    filter, lag\n",
      "\n",
      "The following objects are masked from ‘package:base’:\n",
      "\n",
      "    intersect, setdiff, setequal, union\n",
      "\n"
     ]
    }
   ],
   "source": [
    "# open libraries to access useful data transforming tools\n",
    "library(dplyr)\n",
    "library(tidyr)"
   ]
  },
  {
   "cell_type": "code",
   "execution_count": null,
   "metadata": {},
   "outputs": [],
   "source": [
    "# read in the 3 table files, 1 for each city\n",
    "ny = read.csv('new_york_city.csv')\n",
    "wash = read.csv('washington.csv')\n",
    "chi = read.csv('chicago.csv')"
   ]
  },
  {
   "cell_type": "code",
   "execution_count": null,
   "metadata": {},
   "outputs": [],
   "source": [
    "# explore columns & data available for each table/city\n",
    "head(ny)"
   ]
  },
  {
   "cell_type": "code",
   "execution_count": null,
   "metadata": {},
   "outputs": [],
   "source": [
    "# explore columns & data available for each table/city\n",
    "head(wash)"
   ]
  },
  {
   "cell_type": "code",
   "execution_count": null,
   "metadata": {},
   "outputs": [],
   "source": [
    "# explore columns & data available for each table/city\n",
    "head(chi)"
   ]
  },
  {
   "cell_type": "code",
   "execution_count": null,
   "metadata": {},
   "outputs": [],
   "source": [
    "# change all column names to lowercase\n",
    "names(ny) <- tolower(names(ny))\n",
    "names(wash) <- tolower(names(wash))\n",
    "names(chi) <- tolower(names(chi))"
   ]
  },
  {
   "cell_type": "code",
   "execution_count": null,
   "metadata": {},
   "outputs": [],
   "source": [
    "# create views w/ columns dropped to clean up data\n",
    "ny2 <- subset(ny, select = -c(start.time, end.time, trip.duration))\n",
    "wash2 <- subset(wash, select = -c(start.time, end.time, trip.duration))\n",
    "chi2 <- subset(chi, select = -c(start.time, end.time, trip.duration))"
   ]
  },
  {
   "cell_type": "code",
   "execution_count": null,
   "metadata": {},
   "outputs": [],
   "source": [
    "# create city \"name\" column to hold city name\n",
    "ny$name <- 'New York'\n",
    "wash$name <- 'DC'\n",
    "chi$name <- 'Chicago'"
   ]
  },
  {
   "cell_type": "code",
   "execution_count": null,
   "metadata": {},
   "outputs": [],
   "source": [
    "# calculate the total rows in each table\n",
    "nytotal <- nrow(ny)\n",
    "washtotal <- nrow(wash)\n",
    "chitotal <- nrow(chi)\n",
    "print(paste(\"Total Rows in New York:\", nytotal))\n",
    "print(paste(\"Total Rows in DC:\", washtotal))\n",
    "print(paste(\"Total Rows in Chicago:\", chitotal))"
   ]
  },
  {
   "cell_type": "markdown",
   "metadata": {},
   "source": [
    "### First Thoughts:\n",
    "There appears to be no way to track individual users (no userid), this means some data may be skewed because of repeat customers (commuting). Bike Share does not seem to be very popular in Chicago compared to New York and DC. "
   ]
  },
  {
   "cell_type": "markdown",
   "metadata": {},
   "source": [
    "# Question 1\n",
    "\n",
    "\n",
    "### **What generations use Bike Share the most?**"
   ]
  },
  {
   "cell_type": "markdown",
   "metadata": {},
   "source": [
    "## New York"
   ]
  },
  {
   "cell_type": "code",
   "execution_count": null,
   "metadata": {},
   "outputs": [],
   "source": [
    "# find statistics for New York w/o nulls\n",
    "min_age_ny <- min(ny2$birth.year, na.rm = TRUE)\n",
    "max_age_ny <- max(ny2$birth.year, na.rm = TRUE)\n",
    "median_age_ny <- median(ny2$birth.year, na.rm = TRUE)\n",
    "\n",
    "print(paste(\"The oldest New York customer was born in:\", min_age_ny))\n",
    "print(paste(\"The youngest New York customer was born in:\", max_age_ny))\n",
    "print(paste(\"The median year a New York customer was born in was:\", median_age_ny))"
   ]
  },
  {
   "cell_type": "markdown",
   "metadata": {},
   "source": [
    "## Outliers / Errors Causing Discreptencies\n",
    "\n",
    "The oldest New York Customer being born in 1885 does not seem accurate-- that would be a 140 year old riding a bike through the streets of New York. The data must be cleaned up to have a more accurate representation of our customer base. Nulls were already removed in the above calculation. "
   ]
  },
  {
   "cell_type": "code",
   "execution_count": null,
   "metadata": {},
   "outputs": [],
   "source": [
    "# create a box plot to see current data spread\n",
    "boxplot(ny2$birth.year)$out"
   ]
  },
  {
   "cell_type": "code",
   "execution_count": null,
   "metadata": {},
   "outputs": [],
   "source": [
    "#find Q1, Q3, and IQR range to appropriately remove outliers\n",
    "Q1ny <- quantile(ny2$birth.year, .25, na.rm = TRUE)\n",
    "Q3ny <- quantile(ny2$birth.year, .75, na.rm = TRUE)\n",
    "IQRny <- IQR(ny2$birth.year, na.rm = TRUE)\n",
    "\n",
    "#remove rows that values are outside 1.5*IQR of Q1 and Q3\n",
    "ny2.birthyear.outliers <- subset(ny2, ny2$birth.year> (Q1ny - 1.5*IQRny) & ny2$birth.year< (Q3ny + 1.5*IQRny))\n",
    "\n",
    "#view new row and column count\n",
    "ny2total <- nrow(ny2.birthyear.outliers)\n",
    "ny2complete <- nytotal - ny2total\n",
    "\n",
    "print(paste(\"New Total Rows in New York:\", ny2total))\n",
    "print(paste(\"Total Rows Removed from New York Dataframe:\", ny2complete))"
   ]
  },
  {
   "cell_type": "markdown",
   "metadata": {},
   "source": [
    "New York started with a total of 54,470 rows. After nulls and outliers have been removed, the new total is 49,398 rows. The following visualizations are based on the 49,398 rows that accurately represent the majority of the New York customer base."
   ]
  },
  {
   "cell_type": "code",
   "execution_count": null,
   "metadata": {},
   "outputs": [],
   "source": [
    "# new box plot to see the spread of birth years after the data has been cleaned up. \n",
    "boxplot(ny2.birthyear.outliers$birth.year)$out"
   ]
  },
  {
   "cell_type": "code",
   "execution_count": null,
   "metadata": {},
   "outputs": [],
   "source": [
    "# find statistics for New York w/o nulls & outliers\n",
    "min_age_ny2 <- min(ny2.birthyear.outliers$birth.year, na.rm = TRUE)\n",
    "max_age_ny2 <- max(ny2.birthyear.outliers$birth.year, na.rm = TRUE)\n",
    "median_age_ny2 <- median(ny2.birthyear.outliers$birth.year, na.rm = TRUE)\n",
    "\n",
    "print(paste(\"The oldest New York customer was born in:\", min_age_ny2))\n",
    "print(paste(\"The youngest New York customer was born in:\", max_age_ny2))\n",
    "print(paste(\"The median year a New York customer was born in was:\", median_age_ny2))"
   ]
  },
  {
   "cell_type": "markdown",
   "metadata": {},
   "source": [
    "## Chicago"
   ]
  },
  {
   "cell_type": "code",
   "execution_count": null,
   "metadata": {},
   "outputs": [],
   "source": [
    "# find statistics for Chicago w/o nulls\n",
    "min_age_chi <- min(chi2$birth.year, na.rm = TRUE)\n",
    "max_age_chi <- max(chi2$birth.year, na.rm = TRUE)\n",
    "median_age_chi <- median(chi2$birth.year, na.rm = TRUE)\n",
    "\n",
    "print(paste(\"The oldest Chicago customer was born in:\", min_age_chi))\n",
    "print(paste(\"The youngest Chicago customer was born in:\", max_age_chi))\n",
    "print(paste(\"The median year a Chicago customer was born in was:\", median_age_chi))"
   ]
  },
  {
   "cell_type": "code",
   "execution_count": null,
   "metadata": {},
   "outputs": [],
   "source": [
    "#find Q1, Q3, and IQR range to appropriately remove outliers\n",
    "Q1chi <- quantile(chi2$birth.year, .25, na.rm = TRUE)\n",
    "Q3chi <- quantile(chi2$birth.year, .75, na.rm = TRUE)\n",
    "IQRchi <- IQR(chi2$birth.year, na.rm = TRUE)\n",
    "\n",
    "#remove rows that values are outside 1.5*IQR of Q1 and Q3\n",
    "chi2.birthyear.outliers <- subset(chi2, chi2$birth.year> (Q1chi - 1.5*IQRchi) & chi2$birth.year< (Q3chi + 1.5*IQRchi))\n",
    "\n",
    "#view new row and column count\n",
    "chi2total <- nrow(chi2.birthyear.outliers)\n",
    "chi2complete <- chitotal - chi2total\n",
    "\n",
    "print(paste(\"New Total Rows in Chicago:\", chi2total))\n",
    "print(paste(\"Total Rows Removed from Chicago Dataframe:\", chi2complete))"
   ]
  },
  {
   "cell_type": "code",
   "execution_count": null,
   "metadata": {},
   "outputs": [],
   "source": [
    "boxplot(chi2.birthyear.outliers$birth.year)$out"
   ]
  },
  {
   "cell_type": "code",
   "execution_count": null,
   "metadata": {},
   "outputs": [],
   "source": [
    "# find statistics for Chicago w/o nulls & outliers\n",
    "min_age_chi2 <- min(chi2.birthyear.outliers$birth.year, na.rm = TRUE)\n",
    "max_age_chi2 <- max(chi2.birthyear.outliers$birth.year, na.rm = TRUE)\n",
    "median_age_chi2 <- median(chi2.birthyear.outliers$birth.year, na.rm = TRUE)\n",
    "\n",
    "print(paste(\"The oldest Chicago customer was born in:\", min_age_chi2))\n",
    "print(paste(\"The youngest Chicago customer was born in:\", max_age_chi2))\n",
    "print(paste(\"The median year a Chicago customer was born in was:\", median_age_chi2))"
   ]
  },
  {
   "cell_type": "code",
   "execution_count": null,
   "metadata": {},
   "outputs": [],
   "source": [
    "# create histogram to visualize age group spreads in new york & chicago\n",
    "\n",
    "nyvis <- ny2.birthyear.outliers$birth.year\n",
    "chivis <- chi2.birthyear.outliers$birth.year\n",
    "hist(nyvis, col=\"blue\", xlab='Birth Year', ylab='# of Customers', main='Birth Years of New York & Chicago Customers')\n",
    "hist(chivis, col=\"red\", add=TRUE)\n",
    "legend('topleft', c('New York Customers', 'Chicago Customers'),\n",
    "       fill=c(\"blue\", \"red\"))"
   ]
  },
  {
   "cell_type": "code",
   "execution_count": null,
   "metadata": {},
   "outputs": [],
   "source": [
    "ny1985 <- sum(ny2.birthyear.outliers$birth.year > 1984 & ny2.birthyear.outliers$birth.year < 1990)\n",
    "ny1980 <- sum(ny2.birthyear.outliers$birth.year > 1979 & ny2.birthyear.outliers$birth.year < 1985)\n",
    "\n",
    "chi1985 <- sum(chi2.birthyear.outliers$birth.year > 1984 & chi2.birthyear.outliers$birth.year < 1990)\n",
    "chi1980 <- sum(chi2.birthyear.outliers$birth.year > 1979 & chi2.birthyear.outliers$birth.year < 1985)\n",
    "\n",
    "ny85p <- (ny1985 / ny2total) * 100\n",
    "ny80p <- (ny1980 / ny2total) * 100\n",
    "\n",
    "ny80r <- format(round(ny80p, 2), nsmall = 2)\n",
    "ny85r <- format(round(ny85p, 2), nsmall = 2)\n",
    "\n",
    "print(paste(\"New York customers born 1980-1984:\", ny1980, \"making up\", ny80r, \"% of the population.\"))\n",
    "print(paste(\"New York customers born 1985-1989:\", ny1985, \"making up\", ny85r, \"% of the population.\"))\n",
    "\n",
    "\n",
    "chi80p <- (chi1980 / chi2total) * 100\n",
    "chi85p <- (chi1985 / chi2total) * 100\n",
    "\n",
    "chi80r <- format(round(chi80p, 2), nsmall = 2)\n",
    "chi85r <- format(round(chi85p, 2), nsmall = 2)\n",
    "\n",
    "print(paste(\"Chicago customers born 1980-1984:\", chi1980, \"making up\", chi80r, \"% of the population.\"))\n",
    "print(paste(\"Chicago customers born 1985-1989:\", chi1985, \"making up\", chi85r, \"% of the population.\"))"
   ]
  },
  {
   "cell_type": "markdown",
   "metadata": {},
   "source": [
    "## **Summary - What generations use Bike Share the most? **\n",
    "\n",
    "The median birth year of New York customers was 1981 and the median for Chicago customers was 1984. The visualization of the histogram shows that for both cities the majority of the customer base was born between 1985-1989, with the 1980-1984 group being the second largest. New York's oldest customers were born in 1944 and the youngest in 2001, this is a 57 year spread. 1980-1989 makes up 10 years of that spread and customers born in those years combined make up ~36% of the customer base. Chicago's oldest customers were born in 1955 and the youngest in 2002, this is a 47 year spread. 1980-1989 makes up 10 years of that spread and customers born in those years combined make up ~42% of the customer base. Bike Share is most popular with customers born before 1990."
   ]
  },
  {
   "cell_type": "markdown",
   "metadata": {},
   "source": [
    "## Question 2\n",
    "\n",
    "### **Are there destination similarities for Non-Subscribing vs Subscribing Customers?**"
   ]
  },
  {
   "cell_type": "code",
   "execution_count": null,
   "metadata": {},
   "outputs": [],
   "source": [
    "nysub <- sum(ny$user.type == \"Subscriber\")\n",
    "nynonsub <- sum(ny$user.type == \"Customer\")\n",
    "\n",
    "washsub <- sum(wash$user.type == \"Subscriber\")\n",
    "washnonsub <- sum(wash$user.type == \"Customer\")\n",
    "\n",
    "chisub <- sum(chi$user.type == \"Subscriber\")\n",
    "chinonsub <- sum(chi$user.type == \"Customer\")\n",
    "\n",
    "print(paste(\"Total New York Non-Subscribers:\", nynonsub))\n",
    "print(paste(\"Total New York Subscribers:\", nysub))\n",
    "            \n",
    "print(paste(\"Total DC Non-Subscribers:\", washnonsub))\n",
    "print(paste(\"Total DC Subscribers:\", washsub))\n",
    "\n",
    "print(paste(\"Total Chicago Non-Subscribers:\", chinonsub))\n",
    "print(paste(\"Total Chicago Subscribers:\", chisub))\n"
   ]
  },
  {
   "cell_type": "code",
   "execution_count": null,
   "metadata": {},
   "outputs": [],
   "source": [
    "nysubp <- (nysub / nytotal) * 100\n",
    "washsubp <- (washsub / washtotal) * 100\n",
    "dcsubp <- (chisub / chitotal) * 100\n",
    "\n",
    "print(paste(\"New York Customers that are subscribers:\", nysubp, \"%\"))\n",
    "print(paste(\"DC Customers that are subscribers:\", washsubp, \"%\"))\n",
    "print(paste(\"Chicago Customers that are subscribers:\", dcsubp, \"%\"))"
   ]
  },
  {
   "cell_type": "markdown",
   "metadata": {},
   "source": [
    "### First Thoughts:\n",
    "The majority of customers are subscribing customers. This makes sense as these are very populated cities that have a lot of vehicle traffic. "
   ]
  },
  {
   "cell_type": "markdown",
   "metadata": {},
   "source": [
    "## New York"
   ]
  },
  {
   "cell_type": "code",
   "execution_count": null,
   "metadata": {},
   "outputs": [],
   "source": [
    "# see the frequency of each end destination\n",
    "\n",
    "as.data.frame(table(ny$end.station))"
   ]
  },
  {
   "cell_type": "code",
   "execution_count": null,
   "metadata": {},
   "outputs": [],
   "source": [
    "# create a subset for non-subscribing customers\n",
    "nyc2 <- subset(ny, ny$user.type == \"Customer\")\n",
    "\n",
    "# create data frame of end.station + count that is limited to non-subscribing customers\n",
    "nydf <- as.data.frame(table(nyc2$end.station))\n",
    "\n",
    "# rename columns\n",
    "colnames(nydf)[1] = \"end.station\"\n",
    "colnames(nydf)[2] = \"count\"\n",
    "\n",
    "# reorder by highest #s first\n",
    "nydf <- nydf[order(nydf$count, decreasing=TRUE),]\n",
    "\n",
    "# remove stops that are less than 1\n",
    "nydf <- subset(nydf, nydf$count > 0)"
   ]
  },
  {
   "cell_type": "code",
   "execution_count": null,
   "metadata": {},
   "outputs": [],
   "source": [
    "#create a variable that stores the top 10 visited end.stations\n",
    "nydf2 <- top_n(nydf,10,count)\n",
    "\n",
    "#display the top 10 visited end.staions\n",
    "nydf2"
   ]
  },
  {
   "cell_type": "code",
   "execution_count": null,
   "metadata": {},
   "outputs": [],
   "source": [
    "#display a piechart of most frequent end.stations for non-subscribers\n",
    "pie(nydf2$count, nydf2$end.station, radius=0.5, main=\"Top 10 Stops of Non-Subscribing New York Customers\")"
   ]
  },
  {
   "cell_type": "code",
   "execution_count": null,
   "metadata": {},
   "outputs": [],
   "source": [
    "# create a subset for subscribing customers\n",
    "nys2 <- subset(ny, ny$user.type == \"Subscriber\")\n",
    "\n",
    "# create data frame of end.station + count that is limited to non-subscribing customers\n",
    "nysf <- as.data.frame(table(nys2$end.station))\n",
    "\n",
    "# rename columns\n",
    "colnames(nysf)[1] = \"end.station\"\n",
    "colnames(nysf)[2] = \"count\"\n",
    "\n",
    "# reorder by highest #s first\n",
    "nysf <- nysf[order(nysf$count, decreasing=TRUE),]\n",
    "\n",
    "# remove stops that are less than 1\n",
    "nysf <- subset(nysf, nysf$count > 0)"
   ]
  },
  {
   "cell_type": "code",
   "execution_count": null,
   "metadata": {},
   "outputs": [],
   "source": [
    "#create a variable that stores the top 10 visited end.stations of subscribers\n",
    "nysf2 <- top_n(nysf,10,count)\n",
    "\n",
    "#display the top 10 visited end.staions\n",
    "nysf2"
   ]
  },
  {
   "cell_type": "code",
   "execution_count": null,
   "metadata": {},
   "outputs": [],
   "source": [
    "#display a piechart of most frequent end.stations for subscribers\n",
    "pie(nysf2$count, nysf2$end.station, radius=0.5, main=\"Top 10 Stops of Subscribing New York Customers\")"
   ]
  },
  {
   "cell_type": "markdown",
   "metadata": {},
   "source": [
    "## DC"
   ]
  },
  {
   "cell_type": "code",
   "execution_count": null,
   "metadata": {},
   "outputs": [],
   "source": [
    "# see the frequency of each end destination\n",
    "\n",
    "as.data.frame(table(wash$end.station))"
   ]
  },
  {
   "cell_type": "code",
   "execution_count": null,
   "metadata": {},
   "outputs": [],
   "source": [
    "# create a subset for non-subscribing customers\n",
    "washc2 <- subset(wash, wash$user.type == \"Customer\")\n",
    "\n",
    "# create data frame of end.station + count that is limited to non-subscribing customers\n",
    "washdf <- as.data.frame(table(washc2$end.station))\n",
    "\n",
    "# rename columns\n",
    "colnames(washdf)[1] = \"end.station\"\n",
    "colnames(washdf)[2] = \"count\"\n",
    "\n",
    "# reorder by highest #s first\n",
    "washdf <- washdf[order(washdf$count, decreasing=TRUE),]\n",
    "\n",
    "# remove stops that are less than 1\n",
    "washdf <- subset(washdf, washdf$count > 0)"
   ]
  },
  {
   "cell_type": "code",
   "execution_count": null,
   "metadata": {},
   "outputs": [],
   "source": [
    "#create a variable that stores the top 10 visited end.stations\n",
    "washdf2 <- top_n(washdf,10,count)\n",
    "\n",
    "#display the top 10 visited end.staions\n",
    "washdf2"
   ]
  },
  {
   "cell_type": "code",
   "execution_count": null,
   "metadata": {},
   "outputs": [],
   "source": [
    "#display a piechart of most frequent end.stations for non-subscribers\n",
    "pie(washdf2$count, washdf2$end.station, radius=0.5, main=\"Top 10 Stops of Non-Subscribing DC Customers\")"
   ]
  },
  {
   "cell_type": "code",
   "execution_count": null,
   "metadata": {},
   "outputs": [],
   "source": [
    "# create a subset for subscribing customers\n",
    "washs2 <- subset(wash, wash$user.type == \"Subscriber\")\n",
    "\n",
    "# create data frame of end.station + count that is limited to non-subscribing customers\n",
    "washsf <- as.data.frame(table(washs2$end.station))\n",
    "\n",
    "# rename columns\n",
    "colnames(washsf)[1] = \"end.station\"\n",
    "colnames(washsf)[2] = \"count\"\n",
    "\n",
    "# reorder by highest #s first\n",
    "washsf <- washsf[order(washsf$count, decreasing=TRUE),]\n",
    "\n",
    "# remove stops that are less than 1\n",
    "washsf <- subset(washsf, washsf$count > 0)"
   ]
  },
  {
   "cell_type": "code",
   "execution_count": null,
   "metadata": {},
   "outputs": [],
   "source": [
    "#create a variable that stores the top 10 visited end.stations of subscribers\n",
    "washsf2 <- top_n(washsf,10,count)\n",
    "\n",
    "#display the top 10 visited end.staions\n",
    "washsf2"
   ]
  },
  {
   "cell_type": "code",
   "execution_count": null,
   "metadata": {},
   "outputs": [],
   "source": [
    "#display a piechart of most frequent end.stations for subscribers\n",
    "pie(washsf2$count, washsf2$end.station, radius=0.5, main=\"Top 10 Stops of Subscribing DC Customers\")"
   ]
  },
  {
   "cell_type": "markdown",
   "metadata": {},
   "source": [
    "## Chicago"
   ]
  },
  {
   "cell_type": "code",
   "execution_count": null,
   "metadata": {},
   "outputs": [],
   "source": [
    "# see the frequency of each end destination\n",
    "\n",
    "as.data.frame(table(chi$end.station))"
   ]
  },
  {
   "cell_type": "code",
   "execution_count": null,
   "metadata": {},
   "outputs": [],
   "source": [
    "# create a subset for non-subscribing customers\n",
    "chic2 <- subset(chi, chi$user.type == \"Customer\")\n",
    "\n",
    "# create data frame of end.station + count that is limited to non-subscribing customers\n",
    "chidf <- as.data.frame(table(chic2$end.station))\n",
    "\n",
    "# rename columns\n",
    "colnames(chidf)[1] = \"end.station\"\n",
    "colnames(chidf)[2] = \"count\"\n",
    "\n",
    "# reorder by highest #s first\n",
    "chidf <- chidf[order(chidf$count, decreasing=TRUE),]\n",
    "\n",
    "# remove stops that are less than 1\n",
    "chidf <- subset(chidf, chidf$count > 0)"
   ]
  },
  {
   "cell_type": "code",
   "execution_count": null,
   "metadata": {},
   "outputs": [],
   "source": [
    "#create a variable that stores the top 10 visited end.stations\n",
    "chidf2 <- top_n(chidf,10,count)\n",
    "\n",
    "#display the top 10 visited end.staions\n",
    "chidf2"
   ]
  },
  {
   "cell_type": "code",
   "execution_count": null,
   "metadata": {},
   "outputs": [],
   "source": [
    "#display a piechart of most frequent end.stations for non-subscribers\n",
    "pie(chidf2$count, chidf2$end.station, radius=0.5, main=\"Top 10 Stops of Non-Subscribing Chicago Customers\")"
   ]
  },
  {
   "cell_type": "code",
   "execution_count": null,
   "metadata": {},
   "outputs": [],
   "source": [
    "# create a subset for subscribing customers\n",
    "chis2 <- subset(chi, chi$user.type == \"Subscriber\")\n",
    "\n",
    "# create data frame of end.station + count that is limited to non-subscribing customers\n",
    "chisf <- as.data.frame(table(chis2$end.station))\n",
    "\n",
    "# rename columns\n",
    "colnames(chisf)[1] = \"end.station\"\n",
    "colnames(chisf)[2] = \"count\"\n",
    "\n",
    "# reorder by highest #s first\n",
    "chisf <- chisf[order(chisf$count, decreasing=TRUE),]\n",
    "\n",
    "# remove stops that are less than 1\n",
    "chisf <- subset(chisf, chisf$count > 0)"
   ]
  },
  {
   "cell_type": "code",
   "execution_count": null,
   "metadata": {},
   "outputs": [],
   "source": [
    "#create a variable that stores the top 10 visited end.stations of subscribers\n",
    "chisf2 <- top_n(chisf,10,count)\n",
    "\n",
    "#display the top 10 visited end.staions\n",
    "chisf2"
   ]
  },
  {
   "cell_type": "code",
   "execution_count": null,
   "metadata": {},
   "outputs": [],
   "source": [
    "#display a piechart of most frequent end.stations for subscribers\n",
    "pie(chisf2$count, chisf2$end.station, radius=0.5, main=\"Top 10 Stops of Subscribing Chicago Customers\")"
   ]
  },
  {
   "cell_type": "markdown",
   "metadata": {},
   "source": [
    "## **Summary - Are there destinations similarities for Non-Subscribing vs Subscribing Customers?**\n",
    "One of the driving forces behind this question was if there were any similarities between the ending destinations for Non-Subscribers and Subscribers. After checking the top 10 destinations from the trips for each city, no similarities or overlapping data was observed. This sums up that Subscribing members are typically commuting to work, as seen by the larger numbers of trips in general to the same destinations, and Non-Subscribing members are using Bike Share to visit tourist-y destinations like parks, memorials, etc. "
   ]
  },
  {
   "cell_type": "markdown",
   "metadata": {},
   "source": [
    "# Question 3\n",
    "\n",
    "### **Is there any relationship between trip duration and age?**"
   ]
  },
  {
   "cell_type": "markdown",
   "metadata": {},
   "source": [
    "## New York"
   ]
  },
  {
   "cell_type": "code",
   "execution_count": null,
   "metadata": {},
   "outputs": [],
   "source": [
    "min_trip_ny <- min(ny$trip.duration, na.rm = TRUE)\n",
    "max_trip_ny <- max(ny$trip.duration, na.rm = TRUE)\n",
    "median_trip_ny <- median(ny$trip.duration, na.rm = TRUE)\n",
    "\n",
    "min_trip_ny <- format(round((min_trip_ny / 60), 2), nsmall = 2)\n",
    "max_trip_ny <- format(round((max_trip_ny / 60), 2), nsmall = 2)\n",
    "median_trip_ny <- format(round((median_trip_ny / 60), 2), nsmall = 2)\n",
    "\n",
    "#original trip duration is listed in seconds, convert to minutes\n",
    "print(paste(\"Shortest trip duration:\", min_trip_ny, \"minutes\"))\n",
    "print(paste(\"Longest trip duration:\", max_trip_ny, \"minutes\"))\n",
    "print(paste(\"Average trip duration:\", median_trip_ny, \"minutes\"))"
   ]
  },
  {
   "cell_type": "code",
   "execution_count": null,
   "metadata": {},
   "outputs": [],
   "source": [
    "# create box plot to see overview of duration data\n",
    "boxplot(ny$trip.duration / 60)"
   ]
  },
  {
   "cell_type": "code",
   "execution_count": null,
   "metadata": {},
   "outputs": [],
   "source": [
    "# outlier discreptency is present in year and trip duration."
   ]
  },
  {
   "cell_type": "code",
   "execution_count": null,
   "metadata": {},
   "outputs": [],
   "source": [
    "#find Q1, Q3, and IQR range to appropriately remove outliers\n",
    "Q1ny2 <- quantile(ny$trip.duration, .25, na.rm = TRUE)\n",
    "Q3ny2 <- quantile(ny$trip.duration, .75, na.rm = TRUE)\n",
    "IQRny2 <- IQR(ny$trip.duration, na.rm = TRUE)\n",
    "\n",
    "#remove rows that values are outside 1.5*IQR of Q1 and Q3 for trip.duration & birth.year\n",
    "ny.trip.outliers <- subset(ny, ny$trip.duration> (Q1ny2 - 1.5*IQRny2) & ny$trip.duration< (Q3ny2 + 1.5*IQRny2) & \n",
    "                           ny2$birth.year> (Q1ny - 1.5*IQRny) & ny2$birth.year< (Q3ny + 1.5*IQRny))"
   ]
  },
  {
   "cell_type": "code",
   "execution_count": null,
   "metadata": {},
   "outputs": [],
   "source": [
    "min_trip_ny2 <- min(ny.trip.outliers$trip.duration, na.rm = TRUE)\n",
    "max_trip_ny2 <- max(ny.trip.outliers$trip.duration, na.rm = TRUE)\n",
    "median_trip_ny2 <- median(ny.trip.outliers$trip.duration, na.rm = TRUE)\n",
    "\n",
    "min_trip_ny2 <- format(round((min_trip_ny2 / 60), 2), nsmall = 2)\n",
    "max_trip_ny2 <- format(round((max_trip_ny2 / 60), 2), nsmall = 2)\n",
    "median_trip_ny2 <- format(round((median_trip_ny2 / 60), 2), nsmall = 2)\n",
    "\n",
    "#original trip duration is listed in seconds, convert to minutes\n",
    "print(paste(\"Shortest trip duration:\", min_trip_ny2, \"minutes\"))\n",
    "print(paste(\"Longest trip duration:\", max_trip_ny2, \"minutes\"))\n",
    "print(paste(\"Average trip duration:\", median_trip_ny2, \"minutes\"))"
   ]
  },
  {
   "cell_type": "code",
   "execution_count": null,
   "metadata": {},
   "outputs": [],
   "source": [
    "# create box plot to see overview of duration data\n",
    "boxplot(ny.trip.outliers$trip.duration / 60)"
   ]
  },
  {
   "cell_type": "code",
   "execution_count": null,
   "metadata": {},
   "outputs": [],
   "source": [
    "nyx = ny.trip.outliers$birth.year\n",
    "nyy = ny.trip.outliers$trip.duration / 60\n",
    "\n",
    "smoothScatter(nyx, nyy, xlab=\"Birth Year\", ylab=\"Trip Duration in Minutes\", main=\"New York Trip Duration by Age\",\n",
    "              transformation = function(x) x ^ 0.4,\n",
    "              colramp = colorRampPalette(c(\"#000099\", \"#00FEFF\", \"#45FE4F\",\n",
    "                                           \"#FCFF00\", \"#FF9400\", \"#FF3100\")))"
   ]
  },
  {
   "cell_type": "markdown",
   "metadata": {},
   "source": [
    "New York's heatmap spread covers birth years from 1944 to 2001. We can observe that while there are some customers who were born in 1950 to 1960 that went on bike rides of 30+ minutes, the majority of their trips were around 10 minutes long. Customers born around 1980 to 1990 tend to have longer bike rides. There does appear to be a slight correlation between age and trip duration, as as the heat map gets greener around the mid-80s. However the correlation is more strongly represented with shorter trip durations such as 15 minutes. "
   ]
  },
  {
   "cell_type": "markdown",
   "metadata": {},
   "source": [
    "## Chicago"
   ]
  },
  {
   "cell_type": "code",
   "execution_count": null,
   "metadata": {},
   "outputs": [],
   "source": [
    "min_trip_chi <- min(chi$trip.duration, na.rm = TRUE)\n",
    "max_trip_chi <- max(chi$trip.duration, na.rm = TRUE)\n",
    "median_trip_chi <- median(chi$trip.duration, na.rm = TRUE)\n",
    "\n",
    "min_trip_chi <- format(round((min_trip_chi / 60), 2), nsmall = 2)\n",
    "max_trip_chi <- format(round((max_trip_chi / 60), 2), nsmall = 2)\n",
    "median_trip_chi <- format(round((median_trip_chi / 60), 2), nsmall = 2)\n",
    "\n",
    "#original trip duration is listed in seconds, convert to minutes\n",
    "print(paste(\"Shortest trip duration:\", min_trip_chi, \"minutes\"))\n",
    "print(paste(\"Longest trip duration:\", max_trip_chi, \"minutes\"))\n",
    "print(paste(\"Average trip duration:\", median_trip_chi, \"minutes\"))"
   ]
  },
  {
   "cell_type": "code",
   "execution_count": null,
   "metadata": {},
   "outputs": [],
   "source": [
    "# create box plot to see overview of duration data\n",
    "boxplot(chi$trip.duration / 60)"
   ]
  },
  {
   "cell_type": "code",
   "execution_count": null,
   "metadata": {},
   "outputs": [],
   "source": [
    "#find Q1, Q3, and IQR range to appropriately remove outliers\n",
    "Q1chi2 <- quantile(chi$trip.duration, .25, na.rm = TRUE)\n",
    "Q3chi2 <- quantile(chi$trip.duration, .75, na.rm = TRUE)\n",
    "IQRchi2 <- IQR(chi$trip.duration, na.rm = TRUE)\n",
    "\n",
    "#remove rows that values are outside 1.5*IQR of Q1 and Q3 for trip.duration & birth.year\n",
    "chi.trip.outliers <- subset(chi, chi$trip.duration> (Q1chi2 - 1.5*IQRchi2) & chi$trip.duration< (Q3chi2 + 1.5*IQRchi2) & \n",
    "                            chi2$birth.year> (Q1chi - 1.5*IQRchi) & chi2$birth.year< (Q3chi + 1.5*IQRchi))"
   ]
  },
  {
   "cell_type": "code",
   "execution_count": null,
   "metadata": {},
   "outputs": [],
   "source": [
    "min_trip_chi2 <- min(chi.trip.outliers$trip.duration, na.rm = TRUE)\n",
    "max_trip_chi2 <- max(chi.trip.outliers$trip.duration, na.rm = TRUE)\n",
    "median_trip_chi2 <- median(chi.trip.outliers$trip.duration, na.rm = TRUE)\n",
    "\n",
    "min_trip_chi2 <- format(round((min_trip_chi2 / 60), 2), nsmall = 2)\n",
    "max_trip_chi2 <- format(round((max_trip_chi2 / 60), 2), nsmall = 2)\n",
    "median_trip_chi2 <- format(round((median_trip_chi2 / 60), 2), nsmall = 2)\n",
    "\n",
    "#original trip duration is listed in seconds, convert to minutes\n",
    "print(paste(\"Shortest trip duration:\", min_trip_chi2, \"minutes\"))\n",
    "print(paste(\"Longest trip duration:\", max_trip_chi2, \"minutes\"))\n",
    "print(paste(\"Average trip duration:\", median_trip_chi2, \"minutes\"))"
   ]
  },
  {
   "cell_type": "code",
   "execution_count": null,
   "metadata": {},
   "outputs": [],
   "source": [
    "# create box plot to see overview of duration data\n",
    "boxplot(chi.trip.outliers$trip.duration / 60)"
   ]
  },
  {
   "cell_type": "code",
   "execution_count": null,
   "metadata": {},
   "outputs": [],
   "source": [
    "chix = chi.trip.outliers$birth.year\n",
    "chiy = chi.trip.outliers$trip.duration / 60\n",
    "\n",
    "smoothScatter(chix, chiy, xlab=\"Birth Year\", ylab=\"Trip Duration in Minutes\", main=\"Chicago Trip Duration by Age\",\n",
    "              transformation = function(x) x ^ 0.4,\n",
    "              colramp = colorRampPalette(c(\"#000099\", \"#00FEFF\", \"#45FE4F\",\n",
    "                                           \"#FCFF00\", \"#FF9400\", \"#FF3100\")))"
   ]
  },
  {
   "cell_type": "markdown",
   "metadata": {},
   "source": [
    "Chicago's heatmap spread covers birth years from 1955 to 2002. We can observe that while there are some customers who were born in 1955 to 1970 that went on bike rides of 30+ minutes, the majority of their trips were around 5 minutes long. Customers born around 1990 tend to have longer bike rides. There does appear to be a correlation between age and trip duration, as observed by the solidity and shape of the heat map. "
   ]
  },
  {
   "cell_type": "markdown",
   "metadata": {},
   "source": [
    "## **Summary - Is there any relationship between trip duration and age?**\n",
    "There does appear to be a positive relationship between trip distance and age, with those born around 1980 - 1990 going for longer bike trips. It is more easily seen with Chicago's data, potentially because the dataset is smaller. The solid rise of the heatmap when looking from left to right represents the longer trip durations as the years get closer to around the 1990s. The minimum, maximum, and average trip durations between the two cities are very close once outliers were removed. "
   ]
  },
  {
   "cell_type": "markdown",
   "metadata": {},
   "source": [
    "\n",
    "## Finishing Up\n",
    "\n",
    "> Congratulations!  You have reached the end of the Explore Bikeshare Data Project. You should be very proud of all you have accomplished!\n",
    "\n",
    "> **Tip**: Once you are satisfied with your work here, check over your report to make sure that it is satisfies all the areas of the [rubric](https://review.udacity.com/#!/rubrics/2508/view). \n",
    "\n",
    "\n",
    "## Directions to Submit\n",
    "\n",
    "> Before you submit your project, you need to create a .html or .pdf version of this notebook in the workspace here. To do that, run the code cell below. If it worked correctly, you should get a return code of 0, and you should see the generated .html file in the workspace directory (click on the orange Jupyter icon in the upper left).\n",
    "\n",
    "> Alternatively, you can download this report as .html via the **File** > **Download as** submenu, and then manually upload it into the workspace directory by clicking on the orange Jupyter icon in the upper left, then using the Upload button.\n",
    "\n",
    "> Once you've done this, you can submit your project by clicking on the \"Submit Project\" button in the lower right here. This will create and submit a zip file with this .ipynb doc and the .html or .pdf version you created. Congratulations!"
   ]
  },
  {
   "cell_type": "code",
   "execution_count": null,
   "metadata": {},
   "outputs": [],
   "source": [
    "system('python -m nbconvert Explore_bikeshare_data.ipynb')"
   ]
  }
 ],
 "metadata": {
  "kernelspec": {
   "display_name": "R",
   "language": "R",
   "name": "ir"
  },
  "language_info": {
   "codemirror_mode": "r",
   "file_extension": ".r",
   "mimetype": "text/x-r-source",
   "name": "R",
   "pygments_lexer": "r",
   "version": "3.5.1"
  }
 },
 "nbformat": 4,
 "nbformat_minor": 2
}
